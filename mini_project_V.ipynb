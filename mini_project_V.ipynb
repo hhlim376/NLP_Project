{
 "cells": [
  {
   "cell_type": "markdown",
   "metadata": {},
   "source": [
    "## Identifying Duplicate Questions"
   ]
  },
  {
   "cell_type": "markdown",
   "metadata": {},
   "source": [
    "Over 100 million people visit Quora every month, so it's no surprise that many people ask similar (or the same) questions. Various questions with the same intent can cause people to spend extra time searching for the best answer to their question, and results in members answering multiple versions of the same question. Quora uses random forest to identify duplicated questions to provide a better experience to active seekers and writers, and offer more value to both of these groups in the long term.\n",
    "Follow the steps outlined below to build the appropriate classifier model. \n",
    "\n",
    "\n",
    "Steps:\n",
    "- Download data\n",
    "- Exploration\n",
    "- Cleaning\n",
    "- Feature Engineering\n",
    "- Modeling\n",
    "\n",
    "By the end of this project you should have **a presentation that describes the model you built** and its **performance**. \n"
   ]
  },
  {
   "cell_type": "code",
   "execution_count": 2,
   "metadata": {},
   "outputs": [],
   "source": [
    "import pandas as pd\n",
    "import numpy as np"
   ]
  },
  {
   "cell_type": "code",
   "execution_count": 3,
   "metadata": {},
   "outputs": [],
   "source": [
    "df = pd.read_csv(\"train.csv\")"
   ]
  },
  {
   "cell_type": "markdown",
   "metadata": {},
   "source": [
    "#### Note\n",
    "There is no designated test.csv file. The train.csv file is the entire dataset. Part of the data in the train.csv file should be set aside to act as the final testing data."
   ]
  },
  {
   "cell_type": "code",
   "execution_count": 3,
   "metadata": {},
   "outputs": [
    {
     "data": {
      "text/html": [
       "<div>\n",
       "<style scoped>\n",
       "    .dataframe tbody tr th:only-of-type {\n",
       "        vertical-align: middle;\n",
       "    }\n",
       "\n",
       "    .dataframe tbody tr th {\n",
       "        vertical-align: top;\n",
       "    }\n",
       "\n",
       "    .dataframe thead th {\n",
       "        text-align: right;\n",
       "    }\n",
       "</style>\n",
       "<table border=\"1\" class=\"dataframe\">\n",
       "  <thead>\n",
       "    <tr style=\"text-align: right;\">\n",
       "      <th></th>\n",
       "      <th>id</th>\n",
       "      <th>qid1</th>\n",
       "      <th>qid2</th>\n",
       "      <th>question1</th>\n",
       "      <th>question2</th>\n",
       "      <th>is_duplicate</th>\n",
       "    </tr>\n",
       "  </thead>\n",
       "  <tbody>\n",
       "    <tr>\n",
       "      <th>0</th>\n",
       "      <td>0</td>\n",
       "      <td>1</td>\n",
       "      <td>2</td>\n",
       "      <td>What is the step by step guide to invest in sh...</td>\n",
       "      <td>What is the step by step guide to invest in sh...</td>\n",
       "      <td>0</td>\n",
       "    </tr>\n",
       "    <tr>\n",
       "      <th>1</th>\n",
       "      <td>1</td>\n",
       "      <td>3</td>\n",
       "      <td>4</td>\n",
       "      <td>What is the story of Kohinoor (Koh-i-Noor) Dia...</td>\n",
       "      <td>What would happen if the Indian government sto...</td>\n",
       "      <td>0</td>\n",
       "    </tr>\n",
       "    <tr>\n",
       "      <th>2</th>\n",
       "      <td>2</td>\n",
       "      <td>5</td>\n",
       "      <td>6</td>\n",
       "      <td>How can I increase the speed of my internet co...</td>\n",
       "      <td>How can Internet speed be increased by hacking...</td>\n",
       "      <td>0</td>\n",
       "    </tr>\n",
       "    <tr>\n",
       "      <th>3</th>\n",
       "      <td>3</td>\n",
       "      <td>7</td>\n",
       "      <td>8</td>\n",
       "      <td>Why am I mentally very lonely? How can I solve...</td>\n",
       "      <td>Find the remainder when [math]23^{24}[/math] i...</td>\n",
       "      <td>0</td>\n",
       "    </tr>\n",
       "    <tr>\n",
       "      <th>4</th>\n",
       "      <td>4</td>\n",
       "      <td>9</td>\n",
       "      <td>10</td>\n",
       "      <td>Which one dissolve in water quikly sugar, salt...</td>\n",
       "      <td>Which fish would survive in salt water?</td>\n",
       "      <td>0</td>\n",
       "    </tr>\n",
       "    <tr>\n",
       "      <th>...</th>\n",
       "      <td>...</td>\n",
       "      <td>...</td>\n",
       "      <td>...</td>\n",
       "      <td>...</td>\n",
       "      <td>...</td>\n",
       "      <td>...</td>\n",
       "    </tr>\n",
       "    <tr>\n",
       "      <th>404285</th>\n",
       "      <td>404285</td>\n",
       "      <td>433578</td>\n",
       "      <td>379845</td>\n",
       "      <td>How many keywords are there in the Racket prog...</td>\n",
       "      <td>How many keywords are there in PERL Programmin...</td>\n",
       "      <td>0</td>\n",
       "    </tr>\n",
       "    <tr>\n",
       "      <th>404286</th>\n",
       "      <td>404286</td>\n",
       "      <td>18840</td>\n",
       "      <td>155606</td>\n",
       "      <td>Do you believe there is life after death?</td>\n",
       "      <td>Is it true that there is life after death?</td>\n",
       "      <td>1</td>\n",
       "    </tr>\n",
       "    <tr>\n",
       "      <th>404287</th>\n",
       "      <td>404287</td>\n",
       "      <td>537928</td>\n",
       "      <td>537929</td>\n",
       "      <td>What is one coin?</td>\n",
       "      <td>What's this coin?</td>\n",
       "      <td>0</td>\n",
       "    </tr>\n",
       "    <tr>\n",
       "      <th>404288</th>\n",
       "      <td>404288</td>\n",
       "      <td>537930</td>\n",
       "      <td>537931</td>\n",
       "      <td>What is the approx annual cost of living while...</td>\n",
       "      <td>I am having little hairfall problem but I want...</td>\n",
       "      <td>0</td>\n",
       "    </tr>\n",
       "    <tr>\n",
       "      <th>404289</th>\n",
       "      <td>404289</td>\n",
       "      <td>537932</td>\n",
       "      <td>537933</td>\n",
       "      <td>What is like to have sex with cousin?</td>\n",
       "      <td>What is it like to have sex with your cousin?</td>\n",
       "      <td>0</td>\n",
       "    </tr>\n",
       "  </tbody>\n",
       "</table>\n",
       "<p>404290 rows × 6 columns</p>\n",
       "</div>"
      ],
      "text/plain": [
       "            id    qid1    qid2  \\\n",
       "0            0       1       2   \n",
       "1            1       3       4   \n",
       "2            2       5       6   \n",
       "3            3       7       8   \n",
       "4            4       9      10   \n",
       "...        ...     ...     ...   \n",
       "404285  404285  433578  379845   \n",
       "404286  404286   18840  155606   \n",
       "404287  404287  537928  537929   \n",
       "404288  404288  537930  537931   \n",
       "404289  404289  537932  537933   \n",
       "\n",
       "                                                question1  \\\n",
       "0       What is the step by step guide to invest in sh...   \n",
       "1       What is the story of Kohinoor (Koh-i-Noor) Dia...   \n",
       "2       How can I increase the speed of my internet co...   \n",
       "3       Why am I mentally very lonely? How can I solve...   \n",
       "4       Which one dissolve in water quikly sugar, salt...   \n",
       "...                                                   ...   \n",
       "404285  How many keywords are there in the Racket prog...   \n",
       "404286          Do you believe there is life after death?   \n",
       "404287                                  What is one coin?   \n",
       "404288  What is the approx annual cost of living while...   \n",
       "404289              What is like to have sex with cousin?   \n",
       "\n",
       "                                                question2  is_duplicate  \n",
       "0       What is the step by step guide to invest in sh...             0  \n",
       "1       What would happen if the Indian government sto...             0  \n",
       "2       How can Internet speed be increased by hacking...             0  \n",
       "3       Find the remainder when [math]23^{24}[/math] i...             0  \n",
       "4                 Which fish would survive in salt water?             0  \n",
       "...                                                   ...           ...  \n",
       "404285  How many keywords are there in PERL Programmin...             0  \n",
       "404286         Is it true that there is life after death?             1  \n",
       "404287                                  What's this coin?             0  \n",
       "404288  I am having little hairfall problem but I want...             0  \n",
       "404289      What is it like to have sex with your cousin?             0  \n",
       "\n",
       "[404290 rows x 6 columns]"
      ]
     },
     "execution_count": 3,
     "metadata": {},
     "output_type": "execute_result"
    }
   ],
   "source": [
    "df"
   ]
  },
  {
   "cell_type": "markdown",
   "metadata": {},
   "source": [
    "### Exploration"
   ]
  },
  {
   "cell_type": "code",
   "execution_count": 5,
   "metadata": {},
   "outputs": [
    {
     "data": {
      "text/plain": [
       "(404290, 6)"
      ]
     },
     "execution_count": 5,
     "metadata": {},
     "output_type": "execute_result"
    }
   ],
   "source": [
    "df.shape"
   ]
  },
  {
   "cell_type": "code",
   "execution_count": 7,
   "metadata": {},
   "outputs": [
    {
     "name": "stdout",
     "output_type": "stream",
     "text": [
      "<class 'pandas.core.frame.DataFrame'>\n",
      "RangeIndex: 404290 entries, 0 to 404289\n",
      "Data columns (total 6 columns):\n",
      " #   Column        Non-Null Count   Dtype \n",
      "---  ------        --------------   ----- \n",
      " 0   id            404290 non-null  int64 \n",
      " 1   qid1          404290 non-null  int64 \n",
      " 2   qid2          404290 non-null  int64 \n",
      " 3   question1     404289 non-null  object\n",
      " 4   question2     404288 non-null  object\n",
      " 5   is_duplicate  404290 non-null  int64 \n",
      "dtypes: int64(4), object(2)\n",
      "memory usage: 18.5+ MB\n"
     ]
    }
   ],
   "source": [
    "df.info()"
   ]
  },
  {
   "cell_type": "code",
   "execution_count": 8,
   "metadata": {},
   "outputs": [
    {
     "data": {
      "text/plain": [
       "id              0\n",
       "qid1            0\n",
       "qid2            0\n",
       "question1       1\n",
       "question2       2\n",
       "is_duplicate    0\n",
       "dtype: int64"
      ]
     },
     "execution_count": 8,
     "metadata": {},
     "output_type": "execute_result"
    }
   ],
   "source": [
    "df.isnull().sum()"
   ]
  },
  {
   "cell_type": "code",
   "execution_count": 11,
   "metadata": {},
   "outputs": [],
   "source": [
    "## Only two nulls so we will drop them\n",
    "df = df.dropna()"
   ]
  },
  {
   "cell_type": "code",
   "execution_count": 13,
   "metadata": {},
   "outputs": [
    {
     "data": {
      "text/plain": [
       "(404287, 6)"
      ]
     },
     "execution_count": 13,
     "metadata": {},
     "output_type": "execute_result"
    }
   ],
   "source": [
    "df.shape"
   ]
  },
  {
   "cell_type": "code",
   "execution_count": 17,
   "metadata": {},
   "outputs": [
    {
     "data": {
      "text/plain": [
       "id              404287\n",
       "qid1            290652\n",
       "qid2            299362\n",
       "question1       290455\n",
       "question2       299173\n",
       "is_duplicate         2\n",
       "dtype: int64"
      ]
     },
     "execution_count": 17,
     "metadata": {},
     "output_type": "execute_result"
    }
   ],
   "source": [
    "df.nunique()"
   ]
  },
  {
   "cell_type": "code",
   "execution_count": 18,
   "metadata": {},
   "outputs": [
    {
     "data": {
      "text/plain": [
       "0    255024\n",
       "1    149263\n",
       "Name: is_duplicate, dtype: int64"
      ]
     },
     "execution_count": 18,
     "metadata": {},
     "output_type": "execute_result"
    }
   ],
   "source": [
    "## We seem to have more non duplicates than duplicates\n",
    "df['is_duplicate'].value_counts()"
   ]
  },
  {
   "cell_type": "code",
   "execution_count": 2,
   "metadata": {},
   "outputs": [],
   "source": [
    "import matplotlib.pyplot as plt"
   ]
  },
  {
   "cell_type": "code",
   "execution_count": 13,
   "metadata": {},
   "outputs": [
    {
     "data": {
      "image/png": "[encoded data removed]",
      "text/plain": [
       "<Figure size 640x480 with 1 Axes>"
      ]
     },
     "metadata": {},
     "output_type": "display_data"
    }
   ],
   "source": [
    "# Plot Duplicate and non-duplicates\n",
    "plt.hist(df['is_duplicate'])\n",
    "plt.ylabel('Count')\n",
    "plt.title('Duplicate vs Non-duplicate')\n",
    "plt.xticks([0, 1], ['Not Duplicate', 'Duplicate'])\n",
    "plt.show()"
   ]
  },
  {
   "cell_type": "code",
   "execution_count": null,
   "metadata": {},
   "outputs": [],
   "source": [
    "# df['is_duplicate'].value_counts().plot(kind='bar')\n",
    "# plt.ylabel('Count')\n",
    "# plt.title('Duplicate vs Non-duplicate')\n",
    "# plt.xticks([0, 1], ['Not Duplicate', 'Duplicate'])\n",
    "# plt.show()"
   ]
  },
  {
   "cell_type": "code",
   "execution_count": 29,
   "metadata": {},
   "outputs": [],
   "source": [
    "## Make sure the questions are strings\n",
    "df['question1'] = df['question1'].astype(str)\n",
    "df['question2'] = df['question2'].astype(str)"
   ]
  },
  {
   "cell_type": "code",
   "execution_count": 32,
   "metadata": {},
   "outputs": [
    {
     "data": {
      "text/plain": [
       "id               int64\n",
       "qid1             int64\n",
       "qid2             int64\n",
       "question1       object\n",
       "question2       object\n",
       "is_duplicate     int64\n",
       "dtype: object"
      ]
     },
     "execution_count": 32,
     "metadata": {},
     "output_type": "execute_result"
    }
   ],
   "source": [
    "df.dtypes"
   ]
  },
  {
   "cell_type": "markdown",
   "metadata": {},
   "source": [
    "### Cleaning\n",
    "\n",
    "- Tokenization\n",
    "- Stopwords cleaning\n",
    "- Removing punctuation\n",
    "- Normalizing\n",
    "- Stemming"
   ]
  },
  {
   "cell_type": "code",
   "execution_count": 15,
   "metadata": {},
   "outputs": [],
   "source": [
    "import nltk\n",
    "from nltk.corpus import stopwords\n",
    "ENGstopwords = stopwords.words('english')"
   ]
  },
  {
   "cell_type": "code",
   "execution_count": 16,
   "metadata": {},
   "outputs": [],
   "source": [
    "from nltk.stem import PorterStemmer\n",
    "\n",
    "ps = PorterStemmer() #will remove pre-defined stems"
   ]
  },
  {
   "cell_type": "code",
   "execution_count": 22,
   "metadata": {},
   "outputs": [
    {
     "data": {
      "text/plain": [
       "'!\"#$%&\\'()*+,-./:;<=>?@[\\\\]^_`{|}~'"
      ]
     },
     "execution_count": 22,
     "metadata": {},
     "output_type": "execute_result"
    }
   ],
   "source": [
    "import string\n",
    "\n",
    "string.punctuation"
   ]
  },
  {
   "cell_type": "code",
   "execution_count": 36,
   "metadata": {},
   "outputs": [],
   "source": [
    "## Tokenization\n",
    "def tokenize(text):\n",
    "    tokens = text.split()\n",
    "    return tokens\n",
    "\n",
    "## Remove Punctuation\n",
    "def remove_punct(text):\n",
    "    text = \"\".join([char for char in text if char not in string.punctuation])\n",
    "    return text\n",
    "\n",
    "## Convert to lower case\n",
    "def convert_lower (text):\n",
    "    text = text.lower()\n",
    "    return text\n",
    "\n",
    "## Stopword Cleaning\n",
    "def remove_stopwords(text):\n",
    "    tokens = text.split()\n",
    "    text_stopwords_removed = [word for word in tokens if word not in ENGstopwords]\n",
    "    text_nostop = ''.join([word + ' ' for word in tokens if word not in ENGstopwords])\n",
    "    return text_nostop\n",
    "\n",
    "## Stemming\n",
    "def stem_string(string):\n",
    "    words = string.split()\n",
    "    return ' '.join([ps.stem(word) for word in words])"
   ]
  },
  {
   "cell_type": "code",
   "execution_count": 37,
   "metadata": {},
   "outputs": [],
   "source": [
    "## Define function to preprocess all\n",
    "function_list = [remove_punct, remove_stopwords, convert_lower]\n",
    "def preprocess(data):\n",
    "    for func in function_list:\n",
    "        data = func(data)\n",
    "    return data"
   ]
  },
  {
   "cell_type": "code",
   "execution_count": 33,
   "metadata": {},
   "outputs": [],
   "source": [
    "## Create new dataframe with relevant columns\n",
    "df_clean = df[['question1', 'question2', 'is_duplicate']]"
   ]
  },
  {
   "cell_type": "code",
   "execution_count": null,
   "metadata": {},
   "outputs": [],
   "source": [
    "## Create clean columns for questions 1 and 2\n",
    "df_clean['q1_clean'] = df_clean['question1'].apply(lambda x: preprocess(x))"
   ]
  },
  {
   "cell_type": "code",
   "execution_count": null,
   "metadata": {},
   "outputs": [],
   "source": [
    "df_clean['q2_clean'] = df_clean['question2'].apply(lambda x: preprocess(x))"
   ]
  },
  {
   "cell_type": "code",
   "execution_count": 41,
   "metadata": {},
   "outputs": [
    {
     "data": {
      "text/html": [
       "<div>\n",
       "<style scoped>\n",
       "    .dataframe tbody tr th:only-of-type {\n",
       "        vertical-align: middle;\n",
       "    }\n",
       "\n",
       "    .dataframe tbody tr th {\n",
       "        vertical-align: top;\n",
       "    }\n",
       "\n",
       "    .dataframe thead th {\n",
       "        text-align: right;\n",
       "    }\n",
       "</style>\n",
       "<table border=\"1\" class=\"dataframe\">\n",
       "  <thead>\n",
       "    <tr style=\"text-align: right;\">\n",
       "      <th></th>\n",
       "      <th>question1</th>\n",
       "      <th>question2</th>\n",
       "      <th>is_duplicate</th>\n",
       "      <th>q1_clean</th>\n",
       "      <th>q2_clean</th>\n",
       "    </tr>\n",
       "  </thead>\n",
       "  <tbody>\n",
       "    <tr>\n",
       "      <th>0</th>\n",
       "      <td>What is the step by step guide to invest in sh...</td>\n",
       "      <td>What is the step by step guide to invest in sh...</td>\n",
       "      <td>0</td>\n",
       "      <td>what step step guide invest share market india</td>\n",
       "      <td>what step step guide invest share market</td>\n",
       "    </tr>\n",
       "    <tr>\n",
       "      <th>1</th>\n",
       "      <td>What is the story of Kohinoor (Koh-i-Noor) Dia...</td>\n",
       "      <td>What would happen if the Indian government sto...</td>\n",
       "      <td>0</td>\n",
       "      <td>what story kohinoor kohinoor diamond</td>\n",
       "      <td>what would happen indian government stole kohi...</td>\n",
       "    </tr>\n",
       "    <tr>\n",
       "      <th>2</th>\n",
       "      <td>How can I increase the speed of my internet co...</td>\n",
       "      <td>How can Internet speed be increased by hacking...</td>\n",
       "      <td>0</td>\n",
       "      <td>how i increase speed internet connection using...</td>\n",
       "      <td>how internet speed increased hacking dns</td>\n",
       "    </tr>\n",
       "    <tr>\n",
       "      <th>3</th>\n",
       "      <td>Why am I mentally very lonely? How can I solve...</td>\n",
       "      <td>Find the remainder when [math]23^{24}[/math] i...</td>\n",
       "      <td>0</td>\n",
       "      <td>why i mentally lonely how i solve</td>\n",
       "      <td>find remainder math2324math divided 2423</td>\n",
       "    </tr>\n",
       "    <tr>\n",
       "      <th>4</th>\n",
       "      <td>Which one dissolve in water quikly sugar, salt...</td>\n",
       "      <td>Which fish would survive in salt water?</td>\n",
       "      <td>0</td>\n",
       "      <td>which one dissolve water quikly sugar salt met...</td>\n",
       "      <td>which fish would survive salt water</td>\n",
       "    </tr>\n",
       "    <tr>\n",
       "      <th>...</th>\n",
       "      <td>...</td>\n",
       "      <td>...</td>\n",
       "      <td>...</td>\n",
       "      <td>...</td>\n",
       "      <td>...</td>\n",
       "    </tr>\n",
       "    <tr>\n",
       "      <th>404285</th>\n",
       "      <td>How many keywords are there in the Racket prog...</td>\n",
       "      <td>How many keywords are there in PERL Programmin...</td>\n",
       "      <td>0</td>\n",
       "      <td>how many keywords racket programming language ...</td>\n",
       "      <td>how many keywords perl programming language la...</td>\n",
       "    </tr>\n",
       "    <tr>\n",
       "      <th>404286</th>\n",
       "      <td>Do you believe there is life after death?</td>\n",
       "      <td>Is it true that there is life after death?</td>\n",
       "      <td>1</td>\n",
       "      <td>do believe life death</td>\n",
       "      <td>is true life death</td>\n",
       "    </tr>\n",
       "    <tr>\n",
       "      <th>404287</th>\n",
       "      <td>What is one coin?</td>\n",
       "      <td>What's this coin?</td>\n",
       "      <td>0</td>\n",
       "      <td>what one coin</td>\n",
       "      <td>whats coin</td>\n",
       "    </tr>\n",
       "    <tr>\n",
       "      <th>404288</th>\n",
       "      <td>What is the approx annual cost of living while...</td>\n",
       "      <td>I am having little hairfall problem but I want...</td>\n",
       "      <td>0</td>\n",
       "      <td>what approx annual cost living studying uic ch...</td>\n",
       "      <td>i little hairfall problem i want use hair styl...</td>\n",
       "    </tr>\n",
       "    <tr>\n",
       "      <th>404289</th>\n",
       "      <td>What is like to have sex with cousin?</td>\n",
       "      <td>What is it like to have sex with your cousin?</td>\n",
       "      <td>0</td>\n",
       "      <td>what like sex cousin</td>\n",
       "      <td>what like sex cousin</td>\n",
       "    </tr>\n",
       "  </tbody>\n",
       "</table>\n",
       "<p>404290 rows × 5 columns</p>\n",
       "</div>"
      ],
      "text/plain": [
       "                                                question1  \\\n",
       "0       What is the step by step guide to invest in sh...   \n",
       "1       What is the story of Kohinoor (Koh-i-Noor) Dia...   \n",
       "2       How can I increase the speed of my internet co...   \n",
       "3       Why am I mentally very lonely? How can I solve...   \n",
       "4       Which one dissolve in water quikly sugar, salt...   \n",
       "...                                                   ...   \n",
       "404285  How many keywords are there in the Racket prog...   \n",
       "404286          Do you believe there is life after death?   \n",
       "404287                                  What is one coin?   \n",
       "404288  What is the approx annual cost of living while...   \n",
       "404289              What is like to have sex with cousin?   \n",
       "\n",
       "                                                question2  is_duplicate  \\\n",
       "0       What is the step by step guide to invest in sh...             0   \n",
       "1       What would happen if the Indian government sto...             0   \n",
       "2       How can Internet speed be increased by hacking...             0   \n",
       "3       Find the remainder when [math]23^{24}[/math] i...             0   \n",
       "4                 Which fish would survive in salt water?             0   \n",
       "...                                                   ...           ...   \n",
       "404285  How many keywords are there in PERL Programmin...             0   \n",
       "404286         Is it true that there is life after death?             1   \n",
       "404287                                  What's this coin?             0   \n",
       "404288  I am having little hairfall problem but I want...             0   \n",
       "404289      What is it like to have sex with your cousin?             0   \n",
       "\n",
       "                                                 q1_clean  \\\n",
       "0         what step step guide invest share market india    \n",
       "1                   what story kohinoor kohinoor diamond    \n",
       "2       how i increase speed internet connection using...   \n",
       "3                      why i mentally lonely how i solve    \n",
       "4       which one dissolve water quikly sugar salt met...   \n",
       "...                                                   ...   \n",
       "404285  how many keywords racket programming language ...   \n",
       "404286                             do believe life death    \n",
       "404287                                     what one coin    \n",
       "404288  what approx annual cost living studying uic ch...   \n",
       "404289                              what like sex cousin    \n",
       "\n",
       "                                                 q2_clean  \n",
       "0               what step step guide invest share market   \n",
       "1       what would happen indian government stole kohi...  \n",
       "2               how internet speed increased hacking dns   \n",
       "3               find remainder math2324math divided 2423   \n",
       "4                    which fish would survive salt water   \n",
       "...                                                   ...  \n",
       "404285  how many keywords perl programming language la...  \n",
       "404286                                is true life death   \n",
       "404287                                        whats coin   \n",
       "404288  i little hairfall problem i want use hair styl...  \n",
       "404289                              what like sex cousin   \n",
       "\n",
       "[404290 rows x 5 columns]"
      ]
     },
     "execution_count": 41,
     "metadata": {},
     "output_type": "execute_result"
    }
   ],
   "source": [
    "df_clean"
   ]
  },
  {
   "cell_type": "code",
   "execution_count": 43,
   "metadata": {},
   "outputs": [],
   "source": [
    "## Further cleanning by applying stemming to q1 and q2 clean \n",
    "df_clean['q1_stem'] = df_clean['q1_clean'].apply(stem_string)"
   ]
  },
  {
   "cell_type": "code",
   "execution_count": 44,
   "metadata": {},
   "outputs": [],
   "source": [
    "df_clean['q2_stem'] = df_clean['q2_clean'].apply(stem_string)"
   ]
  },
  {
   "cell_type": "code",
   "execution_count": 45,
   "metadata": {},
   "outputs": [
    {
     "data": {
      "text/html": [
       "<div>\n",
       "<style scoped>\n",
       "    .dataframe tbody tr th:only-of-type {\n",
       "        vertical-align: middle;\n",
       "    }\n",
       "\n",
       "    .dataframe tbody tr th {\n",
       "        vertical-align: top;\n",
       "    }\n",
       "\n",
       "    .dataframe thead th {\n",
       "        text-align: right;\n",
       "    }\n",
       "</style>\n",
       "<table border=\"1\" class=\"dataframe\">\n",
       "  <thead>\n",
       "    <tr style=\"text-align: right;\">\n",
       "      <th></th>\n",
       "      <th>question1</th>\n",
       "      <th>question2</th>\n",
       "      <th>is_duplicate</th>\n",
       "      <th>q1_clean</th>\n",
       "      <th>q2_clean</th>\n",
       "      <th>q1_stem</th>\n",
       "      <th>q2_stem</th>\n",
       "    </tr>\n",
       "  </thead>\n",
       "  <tbody>\n",
       "    <tr>\n",
       "      <th>0</th>\n",
       "      <td>What is the step by step guide to invest in sh...</td>\n",
       "      <td>What is the step by step guide to invest in sh...</td>\n",
       "      <td>0</td>\n",
       "      <td>what step step guide invest share market india</td>\n",
       "      <td>what step step guide invest share market</td>\n",
       "      <td>what step step guid invest share market india</td>\n",
       "      <td>what step step guid invest share market</td>\n",
       "    </tr>\n",
       "    <tr>\n",
       "      <th>1</th>\n",
       "      <td>What is the story of Kohinoor (Koh-i-Noor) Dia...</td>\n",
       "      <td>What would happen if the Indian government sto...</td>\n",
       "      <td>0</td>\n",
       "      <td>what story kohinoor kohinoor diamond</td>\n",
       "      <td>what would happen indian government stole kohi...</td>\n",
       "      <td>what stori kohinoor kohinoor diamond</td>\n",
       "      <td>what would happen indian govern stole kohinoor...</td>\n",
       "    </tr>\n",
       "    <tr>\n",
       "      <th>2</th>\n",
       "      <td>How can I increase the speed of my internet co...</td>\n",
       "      <td>How can Internet speed be increased by hacking...</td>\n",
       "      <td>0</td>\n",
       "      <td>how i increase speed internet connection using...</td>\n",
       "      <td>how internet speed increased hacking dns</td>\n",
       "      <td>how i increas speed internet connect use vpn</td>\n",
       "      <td>how internet speed increas hack dn</td>\n",
       "    </tr>\n",
       "    <tr>\n",
       "      <th>3</th>\n",
       "      <td>Why am I mentally very lonely? How can I solve...</td>\n",
       "      <td>Find the remainder when [math]23^{24}[/math] i...</td>\n",
       "      <td>0</td>\n",
       "      <td>why i mentally lonely how i solve</td>\n",
       "      <td>find remainder math2324math divided 2423</td>\n",
       "      <td>whi i mental lone how i solv</td>\n",
       "      <td>find remaind math2324math divid 2423</td>\n",
       "    </tr>\n",
       "    <tr>\n",
       "      <th>4</th>\n",
       "      <td>Which one dissolve in water quikly sugar, salt...</td>\n",
       "      <td>Which fish would survive in salt water?</td>\n",
       "      <td>0</td>\n",
       "      <td>which one dissolve water quikly sugar salt met...</td>\n",
       "      <td>which fish would survive salt water</td>\n",
       "      <td>which one dissolv water quikli sugar salt meth...</td>\n",
       "      <td>which fish would surviv salt water</td>\n",
       "    </tr>\n",
       "    <tr>\n",
       "      <th>...</th>\n",
       "      <td>...</td>\n",
       "      <td>...</td>\n",
       "      <td>...</td>\n",
       "      <td>...</td>\n",
       "      <td>...</td>\n",
       "      <td>...</td>\n",
       "      <td>...</td>\n",
       "    </tr>\n",
       "    <tr>\n",
       "      <th>404285</th>\n",
       "      <td>How many keywords are there in the Racket prog...</td>\n",
       "      <td>How many keywords are there in PERL Programmin...</td>\n",
       "      <td>0</td>\n",
       "      <td>how many keywords racket programming language ...</td>\n",
       "      <td>how many keywords perl programming language la...</td>\n",
       "      <td>how mani keyword racket program languag latest...</td>\n",
       "      <td>how mani keyword perl program languag latest v...</td>\n",
       "    </tr>\n",
       "    <tr>\n",
       "      <th>404286</th>\n",
       "      <td>Do you believe there is life after death?</td>\n",
       "      <td>Is it true that there is life after death?</td>\n",
       "      <td>1</td>\n",
       "      <td>do believe life death</td>\n",
       "      <td>is true life death</td>\n",
       "      <td>do believ life death</td>\n",
       "      <td>is true life death</td>\n",
       "    </tr>\n",
       "    <tr>\n",
       "      <th>404287</th>\n",
       "      <td>What is one coin?</td>\n",
       "      <td>What's this coin?</td>\n",
       "      <td>0</td>\n",
       "      <td>what one coin</td>\n",
       "      <td>whats coin</td>\n",
       "      <td>what one coin</td>\n",
       "      <td>what coin</td>\n",
       "    </tr>\n",
       "    <tr>\n",
       "      <th>404288</th>\n",
       "      <td>What is the approx annual cost of living while...</td>\n",
       "      <td>I am having little hairfall problem but I want...</td>\n",
       "      <td>0</td>\n",
       "      <td>what approx annual cost living studying uic ch...</td>\n",
       "      <td>i little hairfall problem i want use hair styl...</td>\n",
       "      <td>what approx annual cost live studi uic chicago...</td>\n",
       "      <td>i littl hairfal problem i want use hair style ...</td>\n",
       "    </tr>\n",
       "    <tr>\n",
       "      <th>404289</th>\n",
       "      <td>What is like to have sex with cousin?</td>\n",
       "      <td>What is it like to have sex with your cousin?</td>\n",
       "      <td>0</td>\n",
       "      <td>what like sex cousin</td>\n",
       "      <td>what like sex cousin</td>\n",
       "      <td>what like sex cousin</td>\n",
       "      <td>what like sex cousin</td>\n",
       "    </tr>\n",
       "  </tbody>\n",
       "</table>\n",
       "<p>404290 rows × 7 columns</p>\n",
       "</div>"
      ],
      "text/plain": [
       "                                                question1  \\\n",
       "0       What is the step by step guide to invest in sh...   \n",
       "1       What is the story of Kohinoor (Koh-i-Noor) Dia...   \n",
       "2       How can I increase the speed of my internet co...   \n",
       "3       Why am I mentally very lonely? How can I solve...   \n",
       "4       Which one dissolve in water quikly sugar, salt...   \n",
       "...                                                   ...   \n",
       "404285  How many keywords are there in the Racket prog...   \n",
       "404286          Do you believe there is life after death?   \n",
       "404287                                  What is one coin?   \n",
       "404288  What is the approx annual cost of living while...   \n",
       "404289              What is like to have sex with cousin?   \n",
       "\n",
       "                                                question2  is_duplicate  \\\n",
       "0       What is the step by step guide to invest in sh...             0   \n",
       "1       What would happen if the Indian government sto...             0   \n",
       "2       How can Internet speed be increased by hacking...             0   \n",
       "3       Find the remainder when [math]23^{24}[/math] i...             0   \n",
       "4                 Which fish would survive in salt water?             0   \n",
       "...                                                   ...           ...   \n",
       "404285  How many keywords are there in PERL Programmin...             0   \n",
       "404286         Is it true that there is life after death?             1   \n",
       "404287                                  What's this coin?             0   \n",
       "404288  I am having little hairfall problem but I want...             0   \n",
       "404289      What is it like to have sex with your cousin?             0   \n",
       "\n",
       "                                                 q1_clean  \\\n",
       "0         what step step guide invest share market india    \n",
       "1                   what story kohinoor kohinoor diamond    \n",
       "2       how i increase speed internet connection using...   \n",
       "3                      why i mentally lonely how i solve    \n",
       "4       which one dissolve water quikly sugar salt met...   \n",
       "...                                                   ...   \n",
       "404285  how many keywords racket programming language ...   \n",
       "404286                             do believe life death    \n",
       "404287                                     what one coin    \n",
       "404288  what approx annual cost living studying uic ch...   \n",
       "404289                              what like sex cousin    \n",
       "\n",
       "                                                 q2_clean  \\\n",
       "0               what step step guide invest share market    \n",
       "1       what would happen indian government stole kohi...   \n",
       "2               how internet speed increased hacking dns    \n",
       "3               find remainder math2324math divided 2423    \n",
       "4                    which fish would survive salt water    \n",
       "...                                                   ...   \n",
       "404285  how many keywords perl programming language la...   \n",
       "404286                                is true life death    \n",
       "404287                                        whats coin    \n",
       "404288  i little hairfall problem i want use hair styl...   \n",
       "404289                              what like sex cousin    \n",
       "\n",
       "                                                  q1_stem  \\\n",
       "0           what step step guid invest share market india   \n",
       "1                    what stori kohinoor kohinoor diamond   \n",
       "2            how i increas speed internet connect use vpn   \n",
       "3                            whi i mental lone how i solv   \n",
       "4       which one dissolv water quikli sugar salt meth...   \n",
       "...                                                   ...   \n",
       "404285  how mani keyword racket program languag latest...   \n",
       "404286                               do believ life death   \n",
       "404287                                      what one coin   \n",
       "404288  what approx annual cost live studi uic chicago...   \n",
       "404289                               what like sex cousin   \n",
       "\n",
       "                                                  q2_stem  \n",
       "0                 what step step guid invest share market  \n",
       "1       what would happen indian govern stole kohinoor...  \n",
       "2                      how internet speed increas hack dn  \n",
       "3                    find remaind math2324math divid 2423  \n",
       "4                      which fish would surviv salt water  \n",
       "...                                                   ...  \n",
       "404285  how mani keyword perl program languag latest v...  \n",
       "404286                                 is true life death  \n",
       "404287                                          what coin  \n",
       "404288  i littl hairfal problem i want use hair style ...  \n",
       "404289                               what like sex cousin  \n",
       "\n",
       "[404290 rows x 7 columns]"
      ]
     },
     "execution_count": 45,
     "metadata": {},
     "output_type": "execute_result"
    }
   ],
   "source": [
    "df_clean"
   ]
  },
  {
   "cell_type": "code",
   "execution_count": 49,
   "metadata": {},
   "outputs": [],
   "source": [
    "# df_clean.to_csv(\"data_cleaned.csv\", index = False)"
   ]
  },
  {
   "cell_type": "markdown",
   "metadata": {},
   "source": [
    "Note some of the data seems to be wrongly labelled, like the last example, that seems to be a duplicate question but it is labelled as non-duplicate"
   ]
  },
  {
   "cell_type": "markdown",
   "metadata": {},
   "source": [
    "### Feature Engineering\n",
    "\n",
    "- tf-idf\n",
    "- word2vec\n",
    "- word count\n",
    "- number of the same words in both questions\n",
    "- ...."
   ]
  },
  {
   "cell_type": "markdown",
   "metadata": {},
   "source": [
    "try one with the words stemmed and one without words stemmed?"
   ]
  },
  {
   "cell_type": "code",
   "execution_count": 54,
   "metadata": {},
   "outputs": [],
   "source": [
    "df_features = df_clean[['is_duplicate', 'q1_clean', 'q2_clean']]"
   ]
  },
  {
   "cell_type": "code",
   "execution_count": 55,
   "metadata": {},
   "outputs": [
    {
     "data": {
      "text/html": [
       "<div>\n",
       "<style scoped>\n",
       "    .dataframe tbody tr th:only-of-type {\n",
       "        vertical-align: middle;\n",
       "    }\n",
       "\n",
       "    .dataframe tbody tr th {\n",
       "        vertical-align: top;\n",
       "    }\n",
       "\n",
       "    .dataframe thead th {\n",
       "        text-align: right;\n",
       "    }\n",
       "</style>\n",
       "<table border=\"1\" class=\"dataframe\">\n",
       "  <thead>\n",
       "    <tr style=\"text-align: right;\">\n",
       "      <th></th>\n",
       "      <th>is_duplicate</th>\n",
       "      <th>q1_clean</th>\n",
       "      <th>q2_clean</th>\n",
       "    </tr>\n",
       "  </thead>\n",
       "  <tbody>\n",
       "    <tr>\n",
       "      <th>0</th>\n",
       "      <td>0</td>\n",
       "      <td>what step step guide invest share market india</td>\n",
       "      <td>what step step guide invest share market</td>\n",
       "    </tr>\n",
       "    <tr>\n",
       "      <th>1</th>\n",
       "      <td>0</td>\n",
       "      <td>what story kohinoor kohinoor diamond</td>\n",
       "      <td>what would happen indian government stole kohi...</td>\n",
       "    </tr>\n",
       "    <tr>\n",
       "      <th>2</th>\n",
       "      <td>0</td>\n",
       "      <td>how i increase speed internet connection using...</td>\n",
       "      <td>how internet speed increased hacking dns</td>\n",
       "    </tr>\n",
       "    <tr>\n",
       "      <th>3</th>\n",
       "      <td>0</td>\n",
       "      <td>why i mentally lonely how i solve</td>\n",
       "      <td>find remainder math2324math divided 2423</td>\n",
       "    </tr>\n",
       "    <tr>\n",
       "      <th>4</th>\n",
       "      <td>0</td>\n",
       "      <td>which one dissolve water quikly sugar salt met...</td>\n",
       "      <td>which fish would survive salt water</td>\n",
       "    </tr>\n",
       "  </tbody>\n",
       "</table>\n",
       "</div>"
      ],
      "text/plain": [
       "   is_duplicate                                           q1_clean  \\\n",
       "0             0    what step step guide invest share market india    \n",
       "1             0              what story kohinoor kohinoor diamond    \n",
       "2             0  how i increase speed internet connection using...   \n",
       "3             0                 why i mentally lonely how i solve    \n",
       "4             0  which one dissolve water quikly sugar salt met...   \n",
       "\n",
       "                                            q2_clean  \n",
       "0          what step step guide invest share market   \n",
       "1  what would happen indian government stole kohi...  \n",
       "2          how internet speed increased hacking dns   \n",
       "3          find remainder math2324math divided 2423   \n",
       "4               which fish would survive salt water   "
      ]
     },
     "execution_count": 55,
     "metadata": {},
     "output_type": "execute_result"
    }
   ],
   "source": [
    "df_features.head()"
   ]
  },
  {
   "cell_type": "code",
   "execution_count": null,
   "metadata": {},
   "outputs": [],
   "source": [
    "## Create word count columns\n",
    "\n",
    "## define function to count words\n",
    "def count_words(string):\n",
    "    return len(string.split())\n",
    "\n",
    "## Aplly the function and create columns of word counts\n",
    "df_features['q1_count'] = df_features['q1_clean'].apply(count_words)\n",
    "df_features['q2_count'] = df_features['q2_clean'].apply(count_words)"
   ]
  },
  {
   "cell_type": "code",
   "execution_count": 62,
   "metadata": {},
   "outputs": [
    {
     "data": {
      "text/html": [
       "<div>\n",
       "<style scoped>\n",
       "    .dataframe tbody tr th:only-of-type {\n",
       "        vertical-align: middle;\n",
       "    }\n",
       "\n",
       "    .dataframe tbody tr th {\n",
       "        vertical-align: top;\n",
       "    }\n",
       "\n",
       "    .dataframe thead th {\n",
       "        text-align: right;\n",
       "    }\n",
       "</style>\n",
       "<table border=\"1\" class=\"dataframe\">\n",
       "  <thead>\n",
       "    <tr style=\"text-align: right;\">\n",
       "      <th></th>\n",
       "      <th>is_duplicate</th>\n",
       "      <th>q1_clean</th>\n",
       "      <th>q2_clean</th>\n",
       "      <th>q1_count</th>\n",
       "      <th>q2_count</th>\n",
       "    </tr>\n",
       "  </thead>\n",
       "  <tbody>\n",
       "    <tr>\n",
       "      <th>0</th>\n",
       "      <td>0</td>\n",
       "      <td>what step step guide invest share market india</td>\n",
       "      <td>what step step guide invest share market</td>\n",
       "      <td>8</td>\n",
       "      <td>7</td>\n",
       "    </tr>\n",
       "    <tr>\n",
       "      <th>1</th>\n",
       "      <td>0</td>\n",
       "      <td>what story kohinoor kohinoor diamond</td>\n",
       "      <td>what would happen indian government stole kohi...</td>\n",
       "      <td>5</td>\n",
       "      <td>10</td>\n",
       "    </tr>\n",
       "    <tr>\n",
       "      <th>2</th>\n",
       "      <td>0</td>\n",
       "      <td>how i increase speed internet connection using...</td>\n",
       "      <td>how internet speed increased hacking dns</td>\n",
       "      <td>8</td>\n",
       "      <td>6</td>\n",
       "    </tr>\n",
       "    <tr>\n",
       "      <th>3</th>\n",
       "      <td>0</td>\n",
       "      <td>why i mentally lonely how i solve</td>\n",
       "      <td>find remainder math2324math divided 2423</td>\n",
       "      <td>7</td>\n",
       "      <td>5</td>\n",
       "    </tr>\n",
       "    <tr>\n",
       "      <th>4</th>\n",
       "      <td>0</td>\n",
       "      <td>which one dissolve water quikly sugar salt met...</td>\n",
       "      <td>which fish would survive salt water</td>\n",
       "      <td>11</td>\n",
       "      <td>6</td>\n",
       "    </tr>\n",
       "  </tbody>\n",
       "</table>\n",
       "</div>"
      ],
      "text/plain": [
       "   is_duplicate                                           q1_clean  \\\n",
       "0             0    what step step guide invest share market india    \n",
       "1             0              what story kohinoor kohinoor diamond    \n",
       "2             0  how i increase speed internet connection using...   \n",
       "3             0                 why i mentally lonely how i solve    \n",
       "4             0  which one dissolve water quikly sugar salt met...   \n",
       "\n",
       "                                            q2_clean  q1_count  q2_count  \n",
       "0          what step step guide invest share market          8         7  \n",
       "1  what would happen indian government stole kohi...         5        10  \n",
       "2          how internet speed increased hacking dns          8         6  \n",
       "3          find remainder math2324math divided 2423          7         5  \n",
       "4               which fish would survive salt water         11         6  "
      ]
     },
     "execution_count": 62,
     "metadata": {},
     "output_type": "execute_result"
    }
   ],
   "source": [
    "df_features.head()"
   ]
  },
  {
   "cell_type": "code",
   "execution_count": null,
   "metadata": {},
   "outputs": [],
   "source": [
    "## create word count ratio column\n",
    "df_features['word_count_ratio'] = df_features['q1_count']/df_features['q2_count']"
   ]
  },
  {
   "cell_type": "code",
   "execution_count": 64,
   "metadata": {},
   "outputs": [
    {
     "data": {
      "text/html": [
       "<div>\n",
       "<style scoped>\n",
       "    .dataframe tbody tr th:only-of-type {\n",
       "        vertical-align: middle;\n",
       "    }\n",
       "\n",
       "    .dataframe tbody tr th {\n",
       "        vertical-align: top;\n",
       "    }\n",
       "\n",
       "    .dataframe thead th {\n",
       "        text-align: right;\n",
       "    }\n",
       "</style>\n",
       "<table border=\"1\" class=\"dataframe\">\n",
       "  <thead>\n",
       "    <tr style=\"text-align: right;\">\n",
       "      <th></th>\n",
       "      <th>is_duplicate</th>\n",
       "      <th>q1_clean</th>\n",
       "      <th>q2_clean</th>\n",
       "      <th>q1_count</th>\n",
       "      <th>q2_count</th>\n",
       "      <th>word_count_ratio</th>\n",
       "    </tr>\n",
       "  </thead>\n",
       "  <tbody>\n",
       "    <tr>\n",
       "      <th>0</th>\n",
       "      <td>0</td>\n",
       "      <td>what step step guide invest share market india</td>\n",
       "      <td>what step step guide invest share market</td>\n",
       "      <td>8</td>\n",
       "      <td>7</td>\n",
       "      <td>1.142857</td>\n",
       "    </tr>\n",
       "    <tr>\n",
       "      <th>1</th>\n",
       "      <td>0</td>\n",
       "      <td>what story kohinoor kohinoor diamond</td>\n",
       "      <td>what would happen indian government stole kohi...</td>\n",
       "      <td>5</td>\n",
       "      <td>10</td>\n",
       "      <td>0.500000</td>\n",
       "    </tr>\n",
       "    <tr>\n",
       "      <th>2</th>\n",
       "      <td>0</td>\n",
       "      <td>how i increase speed internet connection using...</td>\n",
       "      <td>how internet speed increased hacking dns</td>\n",
       "      <td>8</td>\n",
       "      <td>6</td>\n",
       "      <td>1.333333</td>\n",
       "    </tr>\n",
       "    <tr>\n",
       "      <th>3</th>\n",
       "      <td>0</td>\n",
       "      <td>why i mentally lonely how i solve</td>\n",
       "      <td>find remainder math2324math divided 2423</td>\n",
       "      <td>7</td>\n",
       "      <td>5</td>\n",
       "      <td>1.400000</td>\n",
       "    </tr>\n",
       "    <tr>\n",
       "      <th>4</th>\n",
       "      <td>0</td>\n",
       "      <td>which one dissolve water quikly sugar salt met...</td>\n",
       "      <td>which fish would survive salt water</td>\n",
       "      <td>11</td>\n",
       "      <td>6</td>\n",
       "      <td>1.833333</td>\n",
       "    </tr>\n",
       "  </tbody>\n",
       "</table>\n",
       "</div>"
      ],
      "text/plain": [
       "   is_duplicate                                           q1_clean  \\\n",
       "0             0    what step step guide invest share market india    \n",
       "1             0              what story kohinoor kohinoor diamond    \n",
       "2             0  how i increase speed internet connection using...   \n",
       "3             0                 why i mentally lonely how i solve    \n",
       "4             0  which one dissolve water quikly sugar salt met...   \n",
       "\n",
       "                                            q2_clean  q1_count  q2_count  \\\n",
       "0          what step step guide invest share market          8         7   \n",
       "1  what would happen indian government stole kohi...         5        10   \n",
       "2          how internet speed increased hacking dns          8         6   \n",
       "3          find remainder math2324math divided 2423          7         5   \n",
       "4               which fish would survive salt water         11         6   \n",
       "\n",
       "   word_count_ratio  \n",
       "0          1.142857  \n",
       "1          0.500000  \n",
       "2          1.333333  \n",
       "3          1.400000  \n",
       "4          1.833333  "
      ]
     },
     "execution_count": 64,
     "metadata": {},
     "output_type": "execute_result"
    }
   ],
   "source": [
    "df_features.head()"
   ]
  },
  {
   "cell_type": "code",
   "execution_count": 66,
   "metadata": {},
   "outputs": [],
   "source": []
  },
  {
   "cell_type": "code",
   "execution_count": 67,
   "metadata": {},
   "outputs": [],
   "source": [
    "# ## Code testing\n",
    "# df1 = df_features\n",
    "# df1['matching_words'] = df1.apply(lambda row: len(set(row['q1_clean'].split()) & set(row['q2_clean'].split())), axis=1)\n",
    "# df1['percentage_matching_words'] = df1['matching_words'] / ((df1['q1_clean'].apply(lambda x: len(x.split())) + df1['q2_clean'].apply(lambda x: len(x.split()))) / 2) \n",
    "# df1"
   ]
  },
  {
   "cell_type": "code",
   "execution_count": 69,
   "metadata": {},
   "outputs": [],
   "source": [
    "## Create columns number of matching words and percentage of matching words\n",
    "df_features['matching_words'] = df_features.apply(lambda row: len(set(row['q1_clean'].split()) & set(row['q2_clean'].split())), axis=1)\n",
    "df_features['percentage_matching_words'] = df_features['matching_words'] / ((df_features['q1_clean'].apply(lambda x: len(x.split())) + df_features['q2_clean'].apply(lambda x: len(x.split()))) / 2) "
   ]
  },
  {
   "cell_type": "code",
   "execution_count": 70,
   "metadata": {},
   "outputs": [
    {
     "data": {
      "text/html": [
       "<div>\n",
       "<style scoped>\n",
       "    .dataframe tbody tr th:only-of-type {\n",
       "        vertical-align: middle;\n",
       "    }\n",
       "\n",
       "    .dataframe tbody tr th {\n",
       "        vertical-align: top;\n",
       "    }\n",
       "\n",
       "    .dataframe thead th {\n",
       "        text-align: right;\n",
       "    }\n",
       "</style>\n",
       "<table border=\"1\" class=\"dataframe\">\n",
       "  <thead>\n",
       "    <tr style=\"text-align: right;\">\n",
       "      <th></th>\n",
       "      <th>is_duplicate</th>\n",
       "      <th>q1_clean</th>\n",
       "      <th>q2_clean</th>\n",
       "      <th>q1_count</th>\n",
       "      <th>q2_count</th>\n",
       "      <th>word_count_ratio</th>\n",
       "      <th>matching_words</th>\n",
       "      <th>percentage_matching_words</th>\n",
       "    </tr>\n",
       "  </thead>\n",
       "  <tbody>\n",
       "    <tr>\n",
       "      <th>0</th>\n",
       "      <td>0</td>\n",
       "      <td>what step step guide invest share market india</td>\n",
       "      <td>what step step guide invest share market</td>\n",
       "      <td>8</td>\n",
       "      <td>7</td>\n",
       "      <td>1.142857</td>\n",
       "      <td>6</td>\n",
       "      <td>0.800000</td>\n",
       "    </tr>\n",
       "    <tr>\n",
       "      <th>1</th>\n",
       "      <td>0</td>\n",
       "      <td>what story kohinoor kohinoor diamond</td>\n",
       "      <td>what would happen indian government stole kohi...</td>\n",
       "      <td>5</td>\n",
       "      <td>10</td>\n",
       "      <td>0.500000</td>\n",
       "      <td>3</td>\n",
       "      <td>0.400000</td>\n",
       "    </tr>\n",
       "    <tr>\n",
       "      <th>2</th>\n",
       "      <td>0</td>\n",
       "      <td>how i increase speed internet connection using...</td>\n",
       "      <td>how internet speed increased hacking dns</td>\n",
       "      <td>8</td>\n",
       "      <td>6</td>\n",
       "      <td>1.333333</td>\n",
       "      <td>3</td>\n",
       "      <td>0.428571</td>\n",
       "    </tr>\n",
       "    <tr>\n",
       "      <th>3</th>\n",
       "      <td>0</td>\n",
       "      <td>why i mentally lonely how i solve</td>\n",
       "      <td>find remainder math2324math divided 2423</td>\n",
       "      <td>7</td>\n",
       "      <td>5</td>\n",
       "      <td>1.400000</td>\n",
       "      <td>0</td>\n",
       "      <td>0.000000</td>\n",
       "    </tr>\n",
       "    <tr>\n",
       "      <th>4</th>\n",
       "      <td>0</td>\n",
       "      <td>which one dissolve water quikly sugar salt met...</td>\n",
       "      <td>which fish would survive salt water</td>\n",
       "      <td>11</td>\n",
       "      <td>6</td>\n",
       "      <td>1.833333</td>\n",
       "      <td>3</td>\n",
       "      <td>0.352941</td>\n",
       "    </tr>\n",
       "    <tr>\n",
       "      <th>...</th>\n",
       "      <td>...</td>\n",
       "      <td>...</td>\n",
       "      <td>...</td>\n",
       "      <td>...</td>\n",
       "      <td>...</td>\n",
       "      <td>...</td>\n",
       "      <td>...</td>\n",
       "      <td>...</td>\n",
       "    </tr>\n",
       "    <tr>\n",
       "      <th>404285</th>\n",
       "      <td>0</td>\n",
       "      <td>how many keywords racket programming language ...</td>\n",
       "      <td>how many keywords perl programming language la...</td>\n",
       "      <td>8</td>\n",
       "      <td>8</td>\n",
       "      <td>1.000000</td>\n",
       "      <td>7</td>\n",
       "      <td>0.875000</td>\n",
       "    </tr>\n",
       "    <tr>\n",
       "      <th>404286</th>\n",
       "      <td>1</td>\n",
       "      <td>do believe life death</td>\n",
       "      <td>is true life death</td>\n",
       "      <td>4</td>\n",
       "      <td>4</td>\n",
       "      <td>1.000000</td>\n",
       "      <td>2</td>\n",
       "      <td>0.500000</td>\n",
       "    </tr>\n",
       "    <tr>\n",
       "      <th>404287</th>\n",
       "      <td>0</td>\n",
       "      <td>what one coin</td>\n",
       "      <td>whats coin</td>\n",
       "      <td>3</td>\n",
       "      <td>2</td>\n",
       "      <td>1.500000</td>\n",
       "      <td>1</td>\n",
       "      <td>0.400000</td>\n",
       "    </tr>\n",
       "    <tr>\n",
       "      <th>404288</th>\n",
       "      <td>0</td>\n",
       "      <td>what approx annual cost living studying uic ch...</td>\n",
       "      <td>i little hairfall problem i want use hair styl...</td>\n",
       "      <td>10</td>\n",
       "      <td>17</td>\n",
       "      <td>0.588235</td>\n",
       "      <td>0</td>\n",
       "      <td>0.000000</td>\n",
       "    </tr>\n",
       "    <tr>\n",
       "      <th>404289</th>\n",
       "      <td>0</td>\n",
       "      <td>what like sex cousin</td>\n",
       "      <td>what like sex cousin</td>\n",
       "      <td>4</td>\n",
       "      <td>4</td>\n",
       "      <td>1.000000</td>\n",
       "      <td>4</td>\n",
       "      <td>1.000000</td>\n",
       "    </tr>\n",
       "  </tbody>\n",
       "</table>\n",
       "<p>404290 rows × 8 columns</p>\n",
       "</div>"
      ],
      "text/plain": [
       "        is_duplicate                                           q1_clean  \\\n",
       "0                  0    what step step guide invest share market india    \n",
       "1                  0              what story kohinoor kohinoor diamond    \n",
       "2                  0  how i increase speed internet connection using...   \n",
       "3                  0                 why i mentally lonely how i solve    \n",
       "4                  0  which one dissolve water quikly sugar salt met...   \n",
       "...              ...                                                ...   \n",
       "404285             0  how many keywords racket programming language ...   \n",
       "404286             1                             do believe life death    \n",
       "404287             0                                     what one coin    \n",
       "404288             0  what approx annual cost living studying uic ch...   \n",
       "404289             0                              what like sex cousin    \n",
       "\n",
       "                                                 q2_clean  q1_count  q2_count  \\\n",
       "0               what step step guide invest share market          8         7   \n",
       "1       what would happen indian government stole kohi...         5        10   \n",
       "2               how internet speed increased hacking dns          8         6   \n",
       "3               find remainder math2324math divided 2423          7         5   \n",
       "4                    which fish would survive salt water         11         6   \n",
       "...                                                   ...       ...       ...   \n",
       "404285  how many keywords perl programming language la...         8         8   \n",
       "404286                                is true life death          4         4   \n",
       "404287                                        whats coin          3         2   \n",
       "404288  i little hairfall problem i want use hair styl...        10        17   \n",
       "404289                              what like sex cousin          4         4   \n",
       "\n",
       "        word_count_ratio  matching_words  percentage_matching_words  \n",
       "0               1.142857               6                   0.800000  \n",
       "1               0.500000               3                   0.400000  \n",
       "2               1.333333               3                   0.428571  \n",
       "3               1.400000               0                   0.000000  \n",
       "4               1.833333               3                   0.352941  \n",
       "...                  ...             ...                        ...  \n",
       "404285          1.000000               7                   0.875000  \n",
       "404286          1.000000               2                   0.500000  \n",
       "404287          1.500000               1                   0.400000  \n",
       "404288          0.588235               0                   0.000000  \n",
       "404289          1.000000               4                   1.000000  \n",
       "\n",
       "[404290 rows x 8 columns]"
      ]
     },
     "execution_count": 70,
     "metadata": {},
     "output_type": "execute_result"
    }
   ],
   "source": [
    "df_features"
   ]
  },
  {
   "cell_type": "code",
   "execution_count": 39,
   "metadata": {},
   "outputs": [],
   "source": [
    "# df_features.to_csv(\"features.csv\", index = False)"
   ]
  },
  {
   "cell_type": "code",
   "execution_count": 12,
   "metadata": {},
   "outputs": [],
   "source": [
    "# df_features = pd.read_csv(\"features.csv\")\n",
    "# df_features['q1_clean'] = df_features['q1_clean'].astype(str)\n",
    "# df_features['q2_clean'] = df_features['q2_clean'].astype(str)"
   ]
  },
  {
   "cell_type": "markdown",
   "metadata": {},
   "source": [
    "Cosine Similarity --> https://www.quora.com/Natural-Language-Processing-How-do-you-calculate-cosine-similarity-between-two-sentences\n",
    "\n",
    "Effectiveness? --> https://www.quora.com/Is-cosine-similarity-effective"
   ]
  },
  {
   "cell_type": "code",
   "execution_count": 7,
   "metadata": {},
   "outputs": [],
   "source": [
    "from sklearn.metrics.pairwise import cosine_similarity\n",
    "from sklearn.feature_extraction.text import TfidfVectorizer"
   ]
  },
  {
   "cell_type": "code",
   "execution_count": 8,
   "metadata": {},
   "outputs": [],
   "source": [
    "tvect = TfidfVectorizer()"
   ]
  },
  {
   "cell_type": "code",
   "execution_count": 9,
   "metadata": {},
   "outputs": [],
   "source": [
    "## Define function to calculate cosine similarity --> metric to determine how similar two vectors are\n",
    "def get_cosine_similarity(row):\n",
    "    q1 = row['q1_clean']\n",
    "    q2 = row['q2_clean']\n",
    "    vectors = [q1, q2]\n",
    "    tvect = TfidfVectorizer().fit_transform(vectors)\n",
    "    return ((tvect * tvect.T).A)[0,1]"
   ]
  },
  {
   "cell_type": "code",
   "execution_count": null,
   "metadata": {},
   "outputs": [],
   "source": [
    "# ## Do a test run \n",
    "# df_test = df_features\n",
    "# df_test['cosine_similarity'] = df_test.apply(get_cosine_similarity, axis=1)\n",
    "# df_test"
   ]
  },
  {
   "cell_type": "code",
   "execution_count": 18,
   "metadata": {},
   "outputs": [],
   "source": [
    "df_features['cosine_similarity'] = df_features.apply(get_cosine_similarity, axis=1)"
   ]
  },
  {
   "cell_type": "code",
   "execution_count": 19,
   "metadata": {},
   "outputs": [
    {
     "data": {
      "text/html": [
       "<div>\n",
       "<style scoped>\n",
       "    .dataframe tbody tr th:only-of-type {\n",
       "        vertical-align: middle;\n",
       "    }\n",
       "\n",
       "    .dataframe tbody tr th {\n",
       "        vertical-align: top;\n",
       "    }\n",
       "\n",
       "    .dataframe thead th {\n",
       "        text-align: right;\n",
       "    }\n",
       "</style>\n",
       "<table border=\"1\" class=\"dataframe\">\n",
       "  <thead>\n",
       "    <tr style=\"text-align: right;\">\n",
       "      <th></th>\n",
       "      <th>is_duplicate</th>\n",
       "      <th>q1_clean</th>\n",
       "      <th>q2_clean</th>\n",
       "      <th>q1_count</th>\n",
       "      <th>q2_count</th>\n",
       "      <th>word_count_ratio</th>\n",
       "      <th>matching_words</th>\n",
       "      <th>percentage_matching_words</th>\n",
       "      <th>cosine_similarity</th>\n",
       "    </tr>\n",
       "  </thead>\n",
       "  <tbody>\n",
       "    <tr>\n",
       "      <th>0</th>\n",
       "      <td>0</td>\n",
       "      <td>what step step guide invest share market india</td>\n",
       "      <td>what step step guide invest share market</td>\n",
       "      <td>8</td>\n",
       "      <td>7</td>\n",
       "      <td>1.142857</td>\n",
       "      <td>6</td>\n",
       "      <td>0.800000</td>\n",
       "      <td>0.905550</td>\n",
       "    </tr>\n",
       "    <tr>\n",
       "      <th>1</th>\n",
       "      <td>0</td>\n",
       "      <td>what story kohinoor kohinoor diamond</td>\n",
       "      <td>what would happen indian government stole kohi...</td>\n",
       "      <td>5</td>\n",
       "      <td>10</td>\n",
       "      <td>0.500000</td>\n",
       "      <td>3</td>\n",
       "      <td>0.400000</td>\n",
       "      <td>0.502844</td>\n",
       "    </tr>\n",
       "    <tr>\n",
       "      <th>2</th>\n",
       "      <td>0</td>\n",
       "      <td>how i increase speed internet connection using...</td>\n",
       "      <td>how internet speed increased hacking dns</td>\n",
       "      <td>8</td>\n",
       "      <td>6</td>\n",
       "      <td>1.333333</td>\n",
       "      <td>3</td>\n",
       "      <td>0.428571</td>\n",
       "      <td>0.304126</td>\n",
       "    </tr>\n",
       "    <tr>\n",
       "      <th>3</th>\n",
       "      <td>0</td>\n",
       "      <td>why i mentally lonely how i solve</td>\n",
       "      <td>find remainder math2324math divided 2423</td>\n",
       "      <td>7</td>\n",
       "      <td>5</td>\n",
       "      <td>1.400000</td>\n",
       "      <td>0</td>\n",
       "      <td>0.000000</td>\n",
       "      <td>0.000000</td>\n",
       "    </tr>\n",
       "    <tr>\n",
       "      <th>4</th>\n",
       "      <td>0</td>\n",
       "      <td>which one dissolve water quikly sugar salt met...</td>\n",
       "      <td>which fish would survive salt water</td>\n",
       "      <td>11</td>\n",
       "      <td>6</td>\n",
       "      <td>1.833333</td>\n",
       "      <td>3</td>\n",
       "      <td>0.352941</td>\n",
       "      <td>0.231571</td>\n",
       "    </tr>\n",
       "    <tr>\n",
       "      <th>...</th>\n",
       "      <td>...</td>\n",
       "      <td>...</td>\n",
       "      <td>...</td>\n",
       "      <td>...</td>\n",
       "      <td>...</td>\n",
       "      <td>...</td>\n",
       "      <td>...</td>\n",
       "      <td>...</td>\n",
       "      <td>...</td>\n",
       "    </tr>\n",
       "    <tr>\n",
       "      <th>404285</th>\n",
       "      <td>0</td>\n",
       "      <td>how many keywords racket programming language ...</td>\n",
       "      <td>how many keywords perl programming language la...</td>\n",
       "      <td>8</td>\n",
       "      <td>8</td>\n",
       "      <td>1.000000</td>\n",
       "      <td>7</td>\n",
       "      <td>0.875000</td>\n",
       "      <td>0.779915</td>\n",
       "    </tr>\n",
       "    <tr>\n",
       "      <th>404286</th>\n",
       "      <td>1</td>\n",
       "      <td>do believe life death</td>\n",
       "      <td>is true life death</td>\n",
       "      <td>4</td>\n",
       "      <td>4</td>\n",
       "      <td>1.000000</td>\n",
       "      <td>2</td>\n",
       "      <td>0.500000</td>\n",
       "      <td>0.336097</td>\n",
       "    </tr>\n",
       "    <tr>\n",
       "      <th>404287</th>\n",
       "      <td>0</td>\n",
       "      <td>what one coin</td>\n",
       "      <td>whats coin</td>\n",
       "      <td>3</td>\n",
       "      <td>2</td>\n",
       "      <td>1.500000</td>\n",
       "      <td>1</td>\n",
       "      <td>0.400000</td>\n",
       "      <td>0.260556</td>\n",
       "    </tr>\n",
       "    <tr>\n",
       "      <th>404288</th>\n",
       "      <td>0</td>\n",
       "      <td>what approx annual cost living studying uic ch...</td>\n",
       "      <td>i little hairfall problem i want use hair styl...</td>\n",
       "      <td>10</td>\n",
       "      <td>17</td>\n",
       "      <td>0.588235</td>\n",
       "      <td>0</td>\n",
       "      <td>0.000000</td>\n",
       "      <td>0.000000</td>\n",
       "    </tr>\n",
       "    <tr>\n",
       "      <th>404289</th>\n",
       "      <td>0</td>\n",
       "      <td>what like sex cousin</td>\n",
       "      <td>what like sex cousin</td>\n",
       "      <td>4</td>\n",
       "      <td>4</td>\n",
       "      <td>1.000000</td>\n",
       "      <td>4</td>\n",
       "      <td>1.000000</td>\n",
       "      <td>1.000000</td>\n",
       "    </tr>\n",
       "  </tbody>\n",
       "</table>\n",
       "<p>404290 rows × 9 columns</p>\n",
       "</div>"
      ],
      "text/plain": [
       "        is_duplicate                                           q1_clean  \\\n",
       "0                  0    what step step guide invest share market india    \n",
       "1                  0              what story kohinoor kohinoor diamond    \n",
       "2                  0  how i increase speed internet connection using...   \n",
       "3                  0                 why i mentally lonely how i solve    \n",
       "4                  0  which one dissolve water quikly sugar salt met...   \n",
       "...              ...                                                ...   \n",
       "404285             0  how many keywords racket programming language ...   \n",
       "404286             1                             do believe life death    \n",
       "404287             0                                     what one coin    \n",
       "404288             0  what approx annual cost living studying uic ch...   \n",
       "404289             0                              what like sex cousin    \n",
       "\n",
       "                                                 q2_clean  q1_count  q2_count  \\\n",
       "0               what step step guide invest share market          8         7   \n",
       "1       what would happen indian government stole kohi...         5        10   \n",
       "2               how internet speed increased hacking dns          8         6   \n",
       "3               find remainder math2324math divided 2423          7         5   \n",
       "4                    which fish would survive salt water         11         6   \n",
       "...                                                   ...       ...       ...   \n",
       "404285  how many keywords perl programming language la...         8         8   \n",
       "404286                                is true life death          4         4   \n",
       "404287                                        whats coin          3         2   \n",
       "404288  i little hairfall problem i want use hair styl...        10        17   \n",
       "404289                              what like sex cousin          4         4   \n",
       "\n",
       "        word_count_ratio  matching_words  percentage_matching_words  \\\n",
       "0               1.142857               6                   0.800000   \n",
       "1               0.500000               3                   0.400000   \n",
       "2               1.333333               3                   0.428571   \n",
       "3               1.400000               0                   0.000000   \n",
       "4               1.833333               3                   0.352941   \n",
       "...                  ...             ...                        ...   \n",
       "404285          1.000000               7                   0.875000   \n",
       "404286          1.000000               2                   0.500000   \n",
       "404287          1.500000               1                   0.400000   \n",
       "404288          0.588235               0                   0.000000   \n",
       "404289          1.000000               4                   1.000000   \n",
       "\n",
       "        cosine_similarity  \n",
       "0                0.905550  \n",
       "1                0.502844  \n",
       "2                0.304126  \n",
       "3                0.000000  \n",
       "4                0.231571  \n",
       "...                   ...  \n",
       "404285           0.779915  \n",
       "404286           0.336097  \n",
       "404287           0.260556  \n",
       "404288           0.000000  \n",
       "404289           1.000000  \n",
       "\n",
       "[404290 rows x 9 columns]"
      ]
     },
     "execution_count": 19,
     "metadata": {},
     "output_type": "execute_result"
    }
   ],
   "source": [
    "df_features"
   ]
  },
  {
   "cell_type": "code",
   "execution_count": 36,
   "metadata": {},
   "outputs": [
    {
     "name": "stdout",
     "output_type": "stream",
     "text": [
      "is_duplicate                 0\n",
      "q1_clean                     0\n",
      "q2_clean                     0\n",
      "q1_count                     0\n",
      "q2_count                     0\n",
      "word_count_ratio             3\n",
      "matching_words               0\n",
      "percentage_matching_words    0\n",
      "cosine_similarity            0\n",
      "dtype: int64\n"
     ]
    }
   ],
   "source": [
    "## 3 infinite values for some reason, might have been 0 divided by zero\n",
    "print(df_features.isin([np.inf, -np.inf]).sum())"
   ]
  },
  {
   "cell_type": "code",
   "execution_count": 37,
   "metadata": {},
   "outputs": [],
   "source": [
    "## lets Just remove those rows\n",
    "df_features = df_features.replace([np.inf, -np.inf], np.nan).dropna()"
   ]
  },
  {
   "cell_type": "code",
   "execution_count": 38,
   "metadata": {},
   "outputs": [
    {
     "data": {
      "text/html": [
       "<div>\n",
       "<style scoped>\n",
       "    .dataframe tbody tr th:only-of-type {\n",
       "        vertical-align: middle;\n",
       "    }\n",
       "\n",
       "    .dataframe tbody tr th {\n",
       "        vertical-align: top;\n",
       "    }\n",
       "\n",
       "    .dataframe thead th {\n",
       "        text-align: right;\n",
       "    }\n",
       "</style>\n",
       "<table border=\"1\" class=\"dataframe\">\n",
       "  <thead>\n",
       "    <tr style=\"text-align: right;\">\n",
       "      <th></th>\n",
       "      <th>is_duplicate</th>\n",
       "      <th>q1_clean</th>\n",
       "      <th>q2_clean</th>\n",
       "      <th>q1_count</th>\n",
       "      <th>q2_count</th>\n",
       "      <th>word_count_ratio</th>\n",
       "      <th>matching_words</th>\n",
       "      <th>percentage_matching_words</th>\n",
       "      <th>cosine_similarity</th>\n",
       "    </tr>\n",
       "  </thead>\n",
       "  <tbody>\n",
       "    <tr>\n",
       "      <th>0</th>\n",
       "      <td>0</td>\n",
       "      <td>what step step guide invest share market india</td>\n",
       "      <td>what step step guide invest share market</td>\n",
       "      <td>8</td>\n",
       "      <td>7</td>\n",
       "      <td>1.142857</td>\n",
       "      <td>6</td>\n",
       "      <td>0.800000</td>\n",
       "      <td>0.905550</td>\n",
       "    </tr>\n",
       "    <tr>\n",
       "      <th>1</th>\n",
       "      <td>0</td>\n",
       "      <td>what story kohinoor kohinoor diamond</td>\n",
       "      <td>what would happen indian government stole kohi...</td>\n",
       "      <td>5</td>\n",
       "      <td>10</td>\n",
       "      <td>0.500000</td>\n",
       "      <td>3</td>\n",
       "      <td>0.400000</td>\n",
       "      <td>0.502844</td>\n",
       "    </tr>\n",
       "    <tr>\n",
       "      <th>2</th>\n",
       "      <td>0</td>\n",
       "      <td>how i increase speed internet connection using...</td>\n",
       "      <td>how internet speed increased hacking dns</td>\n",
       "      <td>8</td>\n",
       "      <td>6</td>\n",
       "      <td>1.333333</td>\n",
       "      <td>3</td>\n",
       "      <td>0.428571</td>\n",
       "      <td>0.304126</td>\n",
       "    </tr>\n",
       "    <tr>\n",
       "      <th>3</th>\n",
       "      <td>0</td>\n",
       "      <td>why i mentally lonely how i solve</td>\n",
       "      <td>find remainder math2324math divided 2423</td>\n",
       "      <td>7</td>\n",
       "      <td>5</td>\n",
       "      <td>1.400000</td>\n",
       "      <td>0</td>\n",
       "      <td>0.000000</td>\n",
       "      <td>0.000000</td>\n",
       "    </tr>\n",
       "    <tr>\n",
       "      <th>4</th>\n",
       "      <td>0</td>\n",
       "      <td>which one dissolve water quikly sugar salt met...</td>\n",
       "      <td>which fish would survive salt water</td>\n",
       "      <td>11</td>\n",
       "      <td>6</td>\n",
       "      <td>1.833333</td>\n",
       "      <td>3</td>\n",
       "      <td>0.352941</td>\n",
       "      <td>0.231571</td>\n",
       "    </tr>\n",
       "    <tr>\n",
       "      <th>...</th>\n",
       "      <td>...</td>\n",
       "      <td>...</td>\n",
       "      <td>...</td>\n",
       "      <td>...</td>\n",
       "      <td>...</td>\n",
       "      <td>...</td>\n",
       "      <td>...</td>\n",
       "      <td>...</td>\n",
       "      <td>...</td>\n",
       "    </tr>\n",
       "    <tr>\n",
       "      <th>404285</th>\n",
       "      <td>0</td>\n",
       "      <td>how many keywords racket programming language ...</td>\n",
       "      <td>how many keywords perl programming language la...</td>\n",
       "      <td>8</td>\n",
       "      <td>8</td>\n",
       "      <td>1.000000</td>\n",
       "      <td>7</td>\n",
       "      <td>0.875000</td>\n",
       "      <td>0.779915</td>\n",
       "    </tr>\n",
       "    <tr>\n",
       "      <th>404286</th>\n",
       "      <td>1</td>\n",
       "      <td>do believe life death</td>\n",
       "      <td>is true life death</td>\n",
       "      <td>4</td>\n",
       "      <td>4</td>\n",
       "      <td>1.000000</td>\n",
       "      <td>2</td>\n",
       "      <td>0.500000</td>\n",
       "      <td>0.336097</td>\n",
       "    </tr>\n",
       "    <tr>\n",
       "      <th>404287</th>\n",
       "      <td>0</td>\n",
       "      <td>what one coin</td>\n",
       "      <td>whats coin</td>\n",
       "      <td>3</td>\n",
       "      <td>2</td>\n",
       "      <td>1.500000</td>\n",
       "      <td>1</td>\n",
       "      <td>0.400000</td>\n",
       "      <td>0.260556</td>\n",
       "    </tr>\n",
       "    <tr>\n",
       "      <th>404288</th>\n",
       "      <td>0</td>\n",
       "      <td>what approx annual cost living studying uic ch...</td>\n",
       "      <td>i little hairfall problem i want use hair styl...</td>\n",
       "      <td>10</td>\n",
       "      <td>17</td>\n",
       "      <td>0.588235</td>\n",
       "      <td>0</td>\n",
       "      <td>0.000000</td>\n",
       "      <td>0.000000</td>\n",
       "    </tr>\n",
       "    <tr>\n",
       "      <th>404289</th>\n",
       "      <td>0</td>\n",
       "      <td>what like sex cousin</td>\n",
       "      <td>what like sex cousin</td>\n",
       "      <td>4</td>\n",
       "      <td>4</td>\n",
       "      <td>1.000000</td>\n",
       "      <td>4</td>\n",
       "      <td>1.000000</td>\n",
       "      <td>1.000000</td>\n",
       "    </tr>\n",
       "  </tbody>\n",
       "</table>\n",
       "<p>404287 rows × 9 columns</p>\n",
       "</div>"
      ],
      "text/plain": [
       "        is_duplicate                                           q1_clean  \\\n",
       "0                  0    what step step guide invest share market india    \n",
       "1                  0              what story kohinoor kohinoor diamond    \n",
       "2                  0  how i increase speed internet connection using...   \n",
       "3                  0                 why i mentally lonely how i solve    \n",
       "4                  0  which one dissolve water quikly sugar salt met...   \n",
       "...              ...                                                ...   \n",
       "404285             0  how many keywords racket programming language ...   \n",
       "404286             1                             do believe life death    \n",
       "404287             0                                     what one coin    \n",
       "404288             0  what approx annual cost living studying uic ch...   \n",
       "404289             0                              what like sex cousin    \n",
       "\n",
       "                                                 q2_clean  q1_count  q2_count  \\\n",
       "0               what step step guide invest share market          8         7   \n",
       "1       what would happen indian government stole kohi...         5        10   \n",
       "2               how internet speed increased hacking dns          8         6   \n",
       "3               find remainder math2324math divided 2423          7         5   \n",
       "4                    which fish would survive salt water         11         6   \n",
       "...                                                   ...       ...       ...   \n",
       "404285  how many keywords perl programming language la...         8         8   \n",
       "404286                                is true life death          4         4   \n",
       "404287                                        whats coin          3         2   \n",
       "404288  i little hairfall problem i want use hair styl...        10        17   \n",
       "404289                              what like sex cousin          4         4   \n",
       "\n",
       "        word_count_ratio  matching_words  percentage_matching_words  \\\n",
       "0               1.142857               6                   0.800000   \n",
       "1               0.500000               3                   0.400000   \n",
       "2               1.333333               3                   0.428571   \n",
       "3               1.400000               0                   0.000000   \n",
       "4               1.833333               3                   0.352941   \n",
       "...                  ...             ...                        ...   \n",
       "404285          1.000000               7                   0.875000   \n",
       "404286          1.000000               2                   0.500000   \n",
       "404287          1.500000               1                   0.400000   \n",
       "404288          0.588235               0                   0.000000   \n",
       "404289          1.000000               4                   1.000000   \n",
       "\n",
       "        cosine_similarity  \n",
       "0                0.905550  \n",
       "1                0.502844  \n",
       "2                0.304126  \n",
       "3                0.000000  \n",
       "4                0.231571  \n",
       "...                   ...  \n",
       "404285           0.779915  \n",
       "404286           0.336097  \n",
       "404287           0.260556  \n",
       "404288           0.000000  \n",
       "404289           1.000000  \n",
       "\n",
       "[404287 rows x 9 columns]"
      ]
     },
     "execution_count": 38,
     "metadata": {},
     "output_type": "execute_result"
    }
   ],
   "source": [
    "df_features"
   ]
  },
  {
   "cell_type": "markdown",
   "metadata": {},
   "source": [
    "### Modeling\n",
    "\n",
    "Different modeling techniques can be used:\n",
    "\n",
    "- logistic regression\n",
    "- XGBoost\n",
    "- LSTMs\n",
    "- etc"
   ]
  },
  {
   "cell_type": "code",
   "execution_count": 3,
   "metadata": {},
   "outputs": [],
   "source": [
    "# df_features = pd.read_csv(\"features.csv\")\n"
   ]
  },
  {
   "cell_type": "code",
   "execution_count": 4,
   "metadata": {},
   "outputs": [],
   "source": [
    "from sklearn.linear_model import LogisticRegression\n",
    "from sklearn.ensemble import RandomForestClassifier\n",
    "from sklearn.svm import SVC\n",
    "from xgboost import XGBClassifier\n",
    "from sklearn.model_selection import GridSearchCV\n",
    "from sklearn.model_selection import train_test_split\n",
    "from sklearn.metrics import accuracy_score, f1_score"
   ]
  },
  {
   "cell_type": "code",
   "execution_count": 6,
   "metadata": {},
   "outputs": [],
   "source": [
    "X = df_features[['word_count_ratio','matching_words','percentage_matching_words','cosine_similarity']]\n",
    "y = df_features['is_duplicate']"
   ]
  },
  {
   "cell_type": "code",
   "execution_count": 7,
   "metadata": {},
   "outputs": [],
   "source": [
    "## Split data\n",
    "X_train, X_test, y_train, y_test = train_test_split(X, y, test_size=0.3, stratify = y, random_state=84)"
   ]
  },
  {
   "cell_type": "code",
   "execution_count": 38,
   "metadata": {},
   "outputs": [],
   "source": [
    "## instantiate models\n",
    "model_lr = LogisticRegression()\n",
    "model_rfc = RandomForestClassifier()\n",
    "model_svc = SVC()\n",
    "model_xgb = XGBClassifier()"
   ]
  },
  {
   "cell_type": "markdown",
   "metadata": {},
   "source": [
    "## Logistic Regression"
   ]
  },
  {
   "cell_type": "code",
   "execution_count": 42,
   "metadata": {},
   "outputs": [],
   "source": [
    "model_lr.fit(X_train,y_train)\n",
    "y_pred_train = model_lr.predict(X_train)\n",
    "y_pred_test = model_lr.predict(X_test)"
   ]
  },
  {
   "cell_type": "code",
   "execution_count": 43,
   "metadata": {},
   "outputs": [
    {
     "name": "stdout",
     "output_type": "stream",
     "text": [
      "The train accuracy score is:  0.6644628975265018\n",
      "The test accuracy score is:  0.6647291135900797\n",
      "The train f1 score is:  0.6275716808315701\n",
      "The test f1 score is:  0.6271983731795365\n"
     ]
    }
   ],
   "source": [
    "acc_score_train = accuracy_score(y_train, y_pred_train)\n",
    "acc_score_test = accuracy_score(y_test, y_pred_test)\n",
    "f1_score_train = f1_score(y_train, y_pred_train, average = 'macro')\n",
    "f1_score_test = f1_score(y_test, y_pred_test, average = 'macro')\n",
    "\n",
    "print(\"The train accuracy score is: \",  acc_score_train)\n",
    "print(\"The test accuracy score is: \",  acc_score_test)\n",
    "print(\"The train f1 score is: \",  f1_score_train)\n",
    "print(\"The test f1 score is: \",  f1_score_test)"
   ]
  },
  {
   "cell_type": "markdown",
   "metadata": {},
   "source": [
    "## SVC\n",
    "\n",
    "Takes too long..."
   ]
  },
  {
   "cell_type": "code",
   "execution_count": null,
   "metadata": {},
   "outputs": [],
   "source": [
    "# model_svc.fit(X_train,y_train)\n",
    "# y_pred_train = model_svc.predict(X_train)\n",
    "# y_pred_test = model_svc.predict(X_test)"
   ]
  },
  {
   "cell_type": "code",
   "execution_count": null,
   "metadata": {},
   "outputs": [],
   "source": [
    "# acc_score_train = accuracy_score(y_train, y_pred_train)\n",
    "# acc_score_test = accuracy_score(y_test, y_pred_test)\n",
    "# f1_score_train = f1_score(y_train, y_pred_train, average = 'macro')\n",
    "# f1_score_test = f1_score(y_test, y_pred_test, average = 'macro')\n",
    "\n",
    "# print(\"The train accuracy score is: \",  acc_score_train)\n",
    "# print(\"The test accuracy score is: \",  acc_score_test)\n",
    "# print(\"The train f1 score is: \",  f1_score_train)\n",
    "# print(\"The test f1 score is: \",  f1_score_test)"
   ]
  },
  {
   "cell_type": "markdown",
   "metadata": {},
   "source": [
    "## Random Forest"
   ]
  },
  {
   "cell_type": "code",
   "execution_count": 26,
   "metadata": {},
   "outputs": [],
   "source": [
    "model_rfc.fit(X_train,y_train)\n",
    "y_pred_train = model_rfc.predict(X_train)\n",
    "y_pred_test = model_rfc.predict(X_test)"
   ]
  },
  {
   "cell_type": "code",
   "execution_count": 27,
   "metadata": {},
   "outputs": [
    {
     "name": "stdout",
     "output_type": "stream",
     "text": [
      "The train accuracy score is:  0.7367950530035335\n",
      "The test accuracy score is:  0.7092186301911994\n",
      "The train f1 score is:  0.7212093522646148\n",
      "The test f1 score is:  0.6921424904357636\n"
     ]
    }
   ],
   "source": [
    "acc_score_train = accuracy_score(y_train, y_pred_train)\n",
    "acc_score_test = accuracy_score(y_test, y_pred_test)\n",
    "f1_score_train = f1_score(y_train, y_pred_train, average = 'macro')\n",
    "f1_score_test = f1_score(y_test, y_pred_test, average = 'macro')\n",
    "\n",
    "print(\"The train accuracy score is: \",  acc_score_train)\n",
    "print(\"The test accuracy score is: \",  acc_score_test)\n",
    "print(\"The train f1 score is: \",  f1_score_train)\n",
    "print(\"The test f1 score is: \",  f1_score_test)"
   ]
  },
  {
   "cell_type": "code",
   "execution_count": 18,
   "metadata": {},
   "outputs": [
    {
     "name": "stdout",
     "output_type": "stream",
     "text": [
      "Fitting 5 folds for each of 12 candidates, totalling 60 fits\n"
     ]
    },
    {
     "data": {
      "text/plain": [
       "{'max_depth': 15, 'max_features': 2, 'n_estimators': 100}"
      ]
     },
     "execution_count": 18,
     "metadata": {},
     "output_type": "execute_result"
    }
   ],
   "source": [
    "## GridSearch\n",
    "# params_dict = {\n",
    "#                 'n_estimators':[50,100],\n",
    "#                 'max_depth' : [5,10,15],\n",
    "#                 'max_features':[2,4],\n",
    "#                 }\n",
    "\n",
    "# rfc_search = GridSearchCV(estimator = model_rfc,\n",
    "#                            param_grid = params_dict,                        \n",
    "#                            n_jobs = -1,\n",
    "#                            verbose = 1)\n",
    "# rfc_search.fit(X_train,y_train)\n",
    "\n",
    "# rfc_search.best_params_"
   ]
  },
  {
   "cell_type": "markdown",
   "metadata": {},
   "source": [
    "## XGBoost"
   ]
  },
  {
   "cell_type": "code",
   "execution_count": 39,
   "metadata": {},
   "outputs": [],
   "source": [
    "model_xgb.fit(X_train,y_train)\n",
    "y_pred_train = model_xgb.predict(X_train)\n",
    "y_pred_test = model_xgb.predict(X_test)"
   ]
  },
  {
   "cell_type": "code",
   "execution_count": 40,
   "metadata": {},
   "outputs": [
    {
     "name": "stdout",
     "output_type": "stream",
     "text": [
      "The train accuracy score is:  0.7173003533568905\n",
      "The test accuracy score is:  0.7119806739386744\n",
      "The train f1 score is:  0.7023712441085505\n",
      "The test f1 score is:  0.6969398723192675\n"
     ]
    }
   ],
   "source": [
    "acc_score_train = accuracy_score(y_train, y_pred_train)\n",
    "acc_score_test = accuracy_score(y_test, y_pred_test)\n",
    "f1_score_train = f1_score(y_train, y_pred_train, average = 'macro')\n",
    "f1_score_test = f1_score(y_test, y_pred_test, average = 'macro')\n",
    "\n",
    "print(\"The train accuracy score is: \",  acc_score_train)\n",
    "print(\"The test accuracy score is: \",  acc_score_test)\n",
    "print(\"The train f1 score is: \",  f1_score_train)\n",
    "print(\"The test f1 score is: \",  f1_score_test)"
   ]
  },
  {
   "cell_type": "code",
   "execution_count": null,
   "metadata": {},
   "outputs": [],
   "source": [
    "# ## GridSearch\n",
    "# params_dict = {\n",
    "#                 'learning_rate':[0.01,0.1],\n",
    "#                 'colsample_bytree': [0.3,0.6,0.9],\n",
    "#                 'n_estimators':[100,200,300],\n",
    "#                 'max_depth':[10,15],\n",
    "#                 'alpha':[5,10],\n",
    "#                 'objective': ['binary:logistic']}\n",
    "\n",
    "# xgb_search = GridSearchCV(estimator = model_xgb,\n",
    "#                            param_grid = params_dict,                        \n",
    "#                            n_jobs = -1,\n",
    "#                            verbose = 1)\n",
    "# xgb_search.fit(X_train,y_train)\n",
    "# xgb_search.best_score_\n",
    "# xgb_search.best_params_"
   ]
  },
  {
   "cell_type": "markdown",
   "metadata": {},
   "source": [
    "### Dealing with Class imbalance with SMOTE"
   ]
  },
  {
   "cell_type": "code",
   "execution_count": 43,
   "metadata": {},
   "outputs": [],
   "source": [
    "from imblearn.over_sampling import SMOTE"
   ]
  },
  {
   "cell_type": "code",
   "execution_count": 44,
   "metadata": {},
   "outputs": [
    {
     "name": "stdout",
     "output_type": "stream",
     "text": [
      "(357032, 4)\n"
     ]
    },
    {
     "data": {
      "text/plain": [
       "0    178516\n",
       "1    178516\n",
       "Name: is_duplicate, dtype: int64"
      ]
     },
     "execution_count": 44,
     "metadata": {},
     "output_type": "execute_result"
    }
   ],
   "source": [
    "## Balance with SMOTE\n",
    "sm = SMOTE(random_state=42)\n",
    "X_res, y_res = sm.fit_resample(X_train, y_train)\n",
    "\n",
    "print(X_res.shape)\n",
    "y_res.value_counts()"
   ]
  },
  {
   "cell_type": "code",
   "execution_count": 45,
   "metadata": {},
   "outputs": [
    {
     "name": "stdout",
     "output_type": "stream",
     "text": [
      "The train accuracy score is:  0.674904593639576\n",
      "The test accuracy score is:  0.6752908390841558\n",
      "The train f1 score is:  0.6687575406630246\n",
      "The test f1 score is:  0.6690586892107173\n"
     ]
    }
   ],
   "source": [
    "## Logistic Regression\n",
    "model_lr.fit(X_res,y_res)\n",
    "y_pred_train = model_lr.predict(X_train)\n",
    "y_pred_test = model_lr.predict(X_test)\n",
    "\n",
    "acc_score_train = accuracy_score(y_train, y_pred_train)\n",
    "acc_score_test = accuracy_score(y_test, y_pred_test)\n",
    "f1_score_train = f1_score(y_train, y_pred_train, average = 'macro')\n",
    "f1_score_test = f1_score(y_test, y_pred_test, average = 'macro')\n",
    "\n",
    "print(\"The train accuracy score is: \",  acc_score_train)\n",
    "print(\"The test accuracy score is: \",  acc_score_test)\n",
    "print(\"The train f1 score is: \",  f1_score_train)\n",
    "print(\"The test f1 score is: \",  f1_score_test)"
   ]
  },
  {
   "cell_type": "code",
   "execution_count": 46,
   "metadata": {},
   "outputs": [
    {
     "name": "stdout",
     "output_type": "stream",
     "text": [
      "The train accuracy score is:  0.719208480565371\n",
      "The test accuracy score is:  0.6950951049988869\n",
      "The train f1 score is:  0.7176516914907384\n",
      "The test f1 score is:  0.6934807764127868\n"
     ]
    }
   ],
   "source": [
    "## Random Forest\n",
    "model_rfc.fit(X_res,y_res)\n",
    "y_pred_train = model_rfc.predict(X_train)\n",
    "y_pred_test = model_rfc.predict(X_test)\n",
    "\n",
    "acc_score_train = accuracy_score(y_train, y_pred_train)\n",
    "acc_score_test = accuracy_score(y_test, y_pred_test)\n",
    "f1_score_train = f1_score(y_train, y_pred_train, average = 'macro')\n",
    "f1_score_test = f1_score(y_test, y_pred_test, average = 'macro')\n",
    "\n",
    "print(\"The train accuracy score is: \",  acc_score_train)\n",
    "print(\"The test accuracy score is: \",  acc_score_test)\n",
    "print(\"The train f1 score is: \",  f1_score_train)\n",
    "print(\"The test f1 score is: \",  f1_score_test)"
   ]
  },
  {
   "cell_type": "code",
   "execution_count": 47,
   "metadata": {},
   "outputs": [
    {
     "name": "stdout",
     "output_type": "stream",
     "text": [
      "The train accuracy score is:  0.6951448763250884\n",
      "The test accuracy score is:  0.6929102047210336\n",
      "The train f1 score is:  0.6943156074576391\n",
      "The test f1 score is:  0.6920454863900956\n"
     ]
    }
   ],
   "source": [
    "## XGBoost\n",
    "model_xgb.fit(X_res,y_res)\n",
    "y_pred_train = model_xgb.predict(X_train)\n",
    "y_pred_test = model_xgb.predict(X_test)\n",
    "\n",
    "acc_score_train = accuracy_score(y_train, y_pred_train)\n",
    "acc_score_test = accuracy_score(y_test, y_pred_test)\n",
    "f1_score_train = f1_score(y_train, y_pred_train, average = 'macro')\n",
    "f1_score_test = f1_score(y_test, y_pred_test, average = 'macro')\n",
    "\n",
    "print(\"The train accuracy score is: \",  acc_score_train)\n",
    "print(\"The test accuracy score is: \",  acc_score_test)\n",
    "print(\"The train f1 score is: \",  f1_score_train)\n",
    "print(\"The test f1 score is: \",  f1_score_test)"
   ]
  },
  {
   "cell_type": "markdown",
   "metadata": {},
   "source": [
    "### Deal with class imbalance through undersampling"
   ]
  },
  {
   "cell_type": "code",
   "execution_count": 52,
   "metadata": {},
   "outputs": [],
   "source": [
    "## Create new dataframe with balanced classes --> Do this by undersampling, excluding certain rows\n",
    "no_rows = df_features[df_features['is_duplicate'] == 0]\n",
    "yes_rows = df_features[df_features['is_duplicate'] == 1]\n",
    "\n",
    "num_no_rows = len(no_rows)\n",
    "num_yes_rows = len(yes_rows)\n",
    "\n",
    "if num_no_rows > num_yes_rows:\n",
    "    no_rows = no_rows.sample(n=num_yes_rows)\n",
    "\n",
    "df_balanced = pd.concat([no_rows, yes_rows])\n"
   ]
  },
  {
   "cell_type": "code",
   "execution_count": 56,
   "metadata": {},
   "outputs": [
    {
     "data": {
      "text/plain": [
       "is_duplicate\n",
       "0    149263\n",
       "1    149263\n",
       "dtype: int64"
      ]
     },
     "execution_count": 56,
     "metadata": {},
     "output_type": "execute_result"
    }
   ],
   "source": [
    "df_balanced.value_counts('is_duplicate')"
   ]
  },
  {
   "cell_type": "code",
   "execution_count": 69,
   "metadata": {},
   "outputs": [],
   "source": [
    "df_balanced = df_balanced.reset_index(drop=True)"
   ]
  },
  {
   "cell_type": "code",
   "execution_count": 72,
   "metadata": {},
   "outputs": [
    {
     "name": "stdout",
     "output_type": "stream",
     "text": [
      "(298526, 4)\n",
      "(298526,)\n"
     ]
    }
   ],
   "source": [
    "print(Xb.shape)\n",
    "print(yb.shape)"
   ]
  },
  {
   "cell_type": "code",
   "execution_count": 70,
   "metadata": {},
   "outputs": [],
   "source": [
    "Xb = df_balanced[['word_count_ratio','matching_words','percentage_matching_words','cosine_similarity']]\n",
    "yb = df_balanced['is_duplicate']"
   ]
  },
  {
   "cell_type": "code",
   "execution_count": 74,
   "metadata": {},
   "outputs": [],
   "source": [
    "Xb_train, Xb_test, yb_train, yb_test = train_test_split(Xb, yb, test_size=0.3, stratify = yb, random_state=88)"
   ]
  },
  {
   "cell_type": "code",
   "execution_count": 75,
   "metadata": {},
   "outputs": [
    {
     "name": "stdout",
     "output_type": "stream",
     "text": [
      "The train accuracy score is:  0.7549289843421002\n",
      "The test accuracy score is:  0.7229393242368074\n",
      "The train f1 score is:  0.751137848737484\n",
      "The test f1 score is:  0.7186617840267859\n"
     ]
    }
   ],
   "source": [
    "## Random Forest\n",
    "model_rfc.fit(Xb_train,yb_train)\n",
    "y_pred_train = model_rfc.predict(Xb_train)\n",
    "y_pred_test = model_rfc.predict(Xb_test)\n",
    "\n",
    "acc_score_train = accuracy_score(yb_train, y_pred_train)\n",
    "acc_score_test = accuracy_score(yb_test, y_pred_test)\n",
    "f1_score_train = f1_score(yb_train, y_pred_train, average = 'macro')\n",
    "f1_score_test = f1_score(yb_test, y_pred_test, average = 'macro')\n",
    "\n",
    "print(\"The train accuracy score is: \",  acc_score_train)\n",
    "print(\"The test accuracy score is: \",  acc_score_test)\n",
    "print(\"The train f1 score is: \",  f1_score_train)\n",
    "print(\"The test f1 score is: \",  f1_score_test)"
   ]
  },
  {
   "cell_type": "code",
   "execution_count": null,
   "metadata": {},
   "outputs": [],
   "source": [
    "## XGBoost\n",
    "model_xgb.fit(Xb_train,yb_train)\n",
    "y_pred_train = model_xgb.predict(Xb_train)\n",
    "y_pred_test = model_xgb.predict(Xb_test)\n",
    "\n",
    "acc_score_train = accuracy_score(yb_train, y_pred_train)\n",
    "acc_score_test = accuracy_score(yb_test, y_pred_test)\n",
    "f1_score_train = f1_score(yb_train, y_pred_train, average = 'macro')\n",
    "f1_score_test = f1_score(yb_test, y_pred_test, average = 'macro')\n",
    "\n",
    "print(\"The train accuracy score is: \",  acc_score_train)\n",
    "print(\"The test accuracy score is: \",  acc_score_test)\n",
    "print(\"The train f1 score is: \",  f1_score_train)\n",
    "print(\"The test f1 score is: \",  f1_score_test)"
   ]
  },
  {
   "cell_type": "code",
   "execution_count": null,
   "metadata": {},
   "outputs": [],
   "source": []
  }
 ],
 "metadata": {
  "kernelspec": {
   "display_name": "Python 3 (ipykernel)",
   "language": "python",
   "name": "python3"
  },
  "language_info": {
   "codemirror_mode": {
    "name": "ipython",
    "version": 3
   },
   "file_extension": ".py",
   "mimetype": "text/x-python",
   "name": "python",
   "nbconvert_exporter": "python",
   "pygments_lexer": "ipython3",
   "version": "3.9.13"
  }
 },
 "nbformat": 4,
 "nbformat_minor": 4
}
